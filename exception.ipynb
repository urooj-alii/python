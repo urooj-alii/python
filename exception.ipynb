{
 "cells": [
  {
   "cell_type": "markdown",
   "id": "b82ad344",
   "metadata": {},
   "source": [
    "PRACTICE"
   ]
  },
  {
   "cell_type": "markdown",
   "id": "8297d9cc",
   "metadata": {},
   "source": [
    "8. Exception Handling\n",
    "\n",
    "\n",
    "● Objective: Handle runtime errors gracefully.\n",
    "\n",
    "● • Common exceptions (ZeroDivisionError, ValueError, FileNotFoundError)\n",
    "\n",
    "● • try, except, else, finally\n",
    "\n",
    "● • Raise custom exceptions with raise\n",
    "\n",
    "● • Creating custom exception classes\n"
   ]
  },
  {
   "cell_type": "markdown",
   "id": "3884d808",
   "metadata": {},
   "source": [
    "1. Write a Python program to handle ZeroDivisionError using try-except.\n"
   ]
  },
  {
   "cell_type": "code",
   "execution_count": 2,
   "id": "4c53e549",
   "metadata": {},
   "outputs": [],
   "source": [
    "def division(val1,val2):\n",
    "    try:\n",
    "        result=val1/val2\n",
    "        print(result)\n",
    "    except ZeroDivisionError as ex:\n",
    "        print(ex)\n",
    "        print(\"enter a number greater than zero\")\n",
    "    except Exception as ex:\n",
    "        print(ex)"
   ]
  },
  {
   "cell_type": "code",
   "execution_count": 3,
   "id": "c1732a2d",
   "metadata": {},
   "outputs": [
    {
     "name": "stdout",
     "output_type": "stream",
     "text": [
      "division by zero\n",
      "enter a number greater than zero\n"
     ]
    }
   ],
   "source": [
    "division(5,0)"
   ]
  },
  {
   "cell_type": "markdown",
   "id": "d03c36f6",
   "metadata": {},
   "source": [
    "2. How do you handle IndexError in Python using try-except?\n"
   ]
  },
  {
   "cell_type": "code",
   "execution_count": 10,
   "id": "e29a1055",
   "metadata": {},
   "outputs": [],
   "source": [
    "def indexfind(listy,value):\n",
    "    try:\n",
    "        print(listy[value])\n",
    "    except IndexError as ex:\n",
    "        print(ex)\n",
    "        print(\"please enter a valid index number\")\n",
    "\n",
    "\n"
   ]
  },
  {
   "cell_type": "code",
   "execution_count": null,
   "id": "99d53fd8",
   "metadata": {},
   "outputs": [
    {
     "name": "stdout",
     "output_type": "stream",
     "text": [
      "cherry\n",
      "None list index out of range\n",
      "please enter a valid index number\n",
      "None "
     ]
    }
   ],
   "source": [
    "list2=[\"fruuits\",\"guava\",\"banana\",\"cherry\"]\n",
    "print(indexfind(list2,3))\n",
    "print(indexfind(list2,5))\n"
   ]
  },
  {
   "cell_type": "markdown",
   "id": "d774550d",
   "metadata": {},
   "source": [
    "3. Create a program to handle ValueError while converting a string to an integer using\n",
    "try-except.\n"
   ]
  },
  {
   "cell_type": "code",
   "execution_count": 17,
   "id": "e510cac5",
   "metadata": {},
   "outputs": [],
   "source": [
    "def find(listy,value):\n",
    "    try:\n",
    "        list1=list(listy)\n",
    "        print(list1.index(value))\n",
    "    except ValueError as ex:\n",
    "        print(ex)\n",
    "        print(\"please enter a valid value\")\n"
   ]
  },
  {
   "cell_type": "code",
   "execution_count": 21,
   "id": "7094b49a",
   "metadata": {},
   "outputs": [
    {
     "name": "stdout",
     "output_type": "stream",
     "text": [
      "3\n",
      "None\n",
      "'urooj' is not in list\n",
      "please enter a valid value\n",
      "None\n"
     ]
    }
   ],
   "source": [
    "print(find(list2,\"cherry\"))\n",
    "print(find(list2,\"urooj\"))"
   ]
  },
  {
   "cell_type": "markdown",
   "id": "2324f580",
   "metadata": {},
   "source": [
    "4. Write a Python program to handle KeyError using try-except.\n"
   ]
  },
  {
   "cell_type": "code",
   "execution_count": 26,
   "id": "5f465ec5",
   "metadata": {},
   "outputs": [],
   "source": [
    "def valuee(dict2,keyy):\n",
    "    try:\n",
    "        dictt=dict(dict2)\n",
    "        print(f\"{keyy}:{dictt[keyy]}\")\n",
    "    except KeyError as ex:\n",
    "        print(f\"{ex}...enter a key which is present in dictionary\")"
   ]
  },
  {
   "cell_type": "code",
   "execution_count": 28,
   "id": "02d2c94f",
   "metadata": {},
   "outputs": [
    {
     "name": "stdout",
     "output_type": "stream",
     "text": [
      "name:urooj\n",
      "None\n",
      "'add'...enter a key which is present in dictionary\n",
      "None\n"
     ]
    }
   ],
   "source": [
    "dict1={\"name\":\"urooj\",\"age\":18,\"country\":\"india\"}\n",
    "print(valuee(dict1,\"name\"))\n",
    "print(valuee(dict1,\"add\"))\n"
   ]
  },
  {
   "cell_type": "markdown",
   "id": "538a169a",
   "metadata": {},
   "source": [
    "5. How can you handle FileNotFoundError while working with file operations using\n",
    "try-except?\n"
   ]
  },
  {
   "cell_type": "code",
   "execution_count": 30,
   "id": "c7e91e83",
   "metadata": {},
   "outputs": [
    {
     "name": "stdout",
     "output_type": "stream",
     "text": [
      "[Errno 2] No such file or directory: 'fileee'... enter a valid file\n"
     ]
    }
   ],
   "source": [
    "\n",
    "try:\n",
    "\n",
    "    file=open(\"fileee\",\"r\")\n",
    "    content=file.read()\n",
    "    print(content)\n",
    "except FileNotFoundError as ex:\n",
    "    print(f\"{ex}... enter a valid file\")"
   ]
  },
  {
   "cell_type": "markdown",
   "id": "c9fe9d4b",
   "metadata": {},
   "source": [
    "6. Create a program to handle TypeError using try-except.\n",
    "\n",
    "\n",
    "This happens when Python cannot perform an operation between two or more objects because their types are incompatible."
   ]
  },
  {
   "cell_type": "code",
   "execution_count": 40,
   "id": "a0f5415e",
   "metadata": {},
   "outputs": [],
   "source": [
    "def add(num1,num2):\n",
    "    try:\n",
    "        result=num1+num2\n",
    "        print(f\"{result} of addition\")\n",
    "    except TypeError as ex:\n",
    "        print(f\"{ex}.. it is not an integer.\")"
   ]
  },
  {
   "cell_type": "code",
   "execution_count": 41,
   "id": "fb980145",
   "metadata": {},
   "outputs": [
    {
     "name": "stdout",
     "output_type": "stream",
     "text": [
      "unsupported operand type(s) for +: 'int' and 'str'.. it is not an integer.\n",
      "None\n",
      "26 of addition\n",
      "None\n"
     ]
    }
   ],
   "source": [
    "print(add(6,\"hello\"))\n",
    "print(add(7,19))\n"
   ]
  },
  {
   "cell_type": "markdown",
   "id": "6ee39003",
   "metadata": {},
   "source": [
    "7. Write a Python program to handle NameError using try-except.\n"
   ]
  },
  {
   "cell_type": "code",
   "execution_count": 42,
   "id": "48a157fb",
   "metadata": {},
   "outputs": [
    {
     "name": "stdout",
     "output_type": "stream",
     "text": [
      " name 'me' is not defined... please define the variable\n"
     ]
    }
   ],
   "source": [
    "try:\n",
    "    print(me)\n",
    "except NameError as ex:\n",
    "    print(f\" {ex}... please define the variable\")"
   ]
  },
  {
   "cell_type": "markdown",
   "id": "ceebe449",
   "metadata": {},
   "source": [
    "8. How do you handle exceptions for invalid input while prompting the user for a number\n",
    "using try-except?\n"
   ]
  },
  {
   "cell_type": "code",
   "execution_count": 43,
   "id": "643c4207",
   "metadata": {},
   "outputs": [],
   "source": [
    "def anynum(Num):\n",
    "    try:\n",
    "        num2=int(Num)\n",
    "        print(num2)\n",
    "    except ValueError as ex:\n",
    "        print(f\"{ex}, enter a number\")"
   ]
  },
  {
   "cell_type": "code",
   "execution_count": 44,
   "id": "506b38b6",
   "metadata": {},
   "outputs": [
    {
     "name": "stdout",
     "output_type": "stream",
     "text": [
      "invalid literal for int() with base 10: 'urooj', enter a number\n"
     ]
    }
   ],
   "source": [
    "anynum(\"urooj\")"
   ]
  }
 ],
 "metadata": {
  "kernelspec": {
   "display_name": "Python 3",
   "language": "python",
   "name": "python3"
  },
  "language_info": {
   "codemirror_mode": {
    "name": "ipython",
    "version": 3
   },
   "file_extension": ".py",
   "mimetype": "text/x-python",
   "name": "python",
   "nbconvert_exporter": "python",
   "pygments_lexer": "ipython3",
   "version": "3.13.3"
  }
 },
 "nbformat": 4,
 "nbformat_minor": 5
}
