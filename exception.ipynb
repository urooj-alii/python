{
 "cells": [
  {
   "cell_type": "markdown",
   "id": "b82ad344",
   "metadata": {},
   "source": [
    "PRACTICE"
   ]
  },
  {
   "cell_type": "markdown",
   "id": "3884d808",
   "metadata": {},
   "source": [
    "1. Write a Python program to handle ZeroDivisionError using try-except.\n"
   ]
  },
  {
   "cell_type": "code",
   "execution_count": null,
   "id": "e2bfd1e5",
   "metadata": {
    "vscode": {
     "languageId": "plaintext"
    }
   },
   "outputs": [],
   "source": []
  },
  {
   "cell_type": "markdown",
   "id": "d03c36f6",
   "metadata": {},
   "source": [
    "2. How do you handle IndexError in Python using try-except?\n"
   ]
  },
  {
   "cell_type": "code",
   "execution_count": null,
   "id": "e29a1055",
   "metadata": {
    "vscode": {
     "languageId": "plaintext"
    }
   },
   "outputs": [],
   "source": []
  },
  {
   "cell_type": "markdown",
   "id": "d774550d",
   "metadata": {},
   "source": [
    "3. Create a program to handle ValueError while converting a string to an integer using\n",
    "try-except.\n"
   ]
  },
  {
   "cell_type": "code",
   "execution_count": null,
   "id": "e510cac5",
   "metadata": {
    "vscode": {
     "languageId": "plaintext"
    }
   },
   "outputs": [],
   "source": []
  },
  {
   "cell_type": "markdown",
   "id": "2324f580",
   "metadata": {},
   "source": [
    "4. Write a Python program to handle KeyError using try-except.\n"
   ]
  },
  {
   "cell_type": "code",
   "execution_count": null,
   "id": "02d2c94f",
   "metadata": {
    "vscode": {
     "languageId": "plaintext"
    }
   },
   "outputs": [],
   "source": []
  },
  {
   "cell_type": "markdown",
   "id": "538a169a",
   "metadata": {},
   "source": [
    "5. How can you handle FileNotFoundError while working with file operations using\n",
    "try-except?\n"
   ]
  },
  {
   "cell_type": "code",
   "execution_count": null,
   "id": "c7e91e83",
   "metadata": {
    "vscode": {
     "languageId": "plaintext"
    }
   },
   "outputs": [],
   "source": []
  },
  {
   "cell_type": "markdown",
   "id": "c9fe9d4b",
   "metadata": {},
   "source": [
    "6. Create a program to handle TypeError using try-except.\n"
   ]
  },
  {
   "cell_type": "code",
   "execution_count": null,
   "id": "a0f5415e",
   "metadata": {
    "vscode": {
     "languageId": "plaintext"
    }
   },
   "outputs": [],
   "source": []
  },
  {
   "cell_type": "markdown",
   "id": "6ee39003",
   "metadata": {},
   "source": [
    "7. Write a Python program to handle NameError using try-except.\n"
   ]
  },
  {
   "cell_type": "code",
   "execution_count": null,
   "id": "48a157fb",
   "metadata": {
    "vscode": {
     "languageId": "plaintext"
    }
   },
   "outputs": [],
   "source": []
  },
  {
   "cell_type": "markdown",
   "id": "ceebe449",
   "metadata": {},
   "source": [
    "8. How do you handle exceptions for invalid input while prompting the user for a number\n",
    "using try-except?\n"
   ]
  },
  {
   "cell_type": "code",
   "execution_count": null,
   "id": "643c4207",
   "metadata": {
    "vscode": {
     "languageId": "plaintext"
    }
   },
   "outputs": [],
   "source": []
  },
  {
   "cell_type": "markdown",
   "id": "6a1b3ae4",
   "metadata": {},
   "source": [
    "9. Create a program to handle exceptions raised due to invalid data types using\n",
    "try-except."
   ]
  },
  {
   "cell_type": "code",
   "execution_count": null,
   "id": "06ba8002",
   "metadata": {
    "vscode": {
     "languageId": "plaintext"
    }
   },
   "outputs": [],
   "source": []
  },
  {
   "cell_type": "markdown",
   "id": "eca66774",
   "metadata": {},
   "source": [
    "10. Write a Python program to handle exceptions for dividing a number by zero using\n",
    "try-except.\n"
   ]
  },
  {
   "cell_type": "code",
   "execution_count": null,
   "id": "4451965a",
   "metadata": {
    "vscode": {
     "languageId": "plaintext"
    }
   },
   "outputs": [],
   "source": []
  }
 ],
 "metadata": {
  "language_info": {
   "name": "python"
  }
 },
 "nbformat": 4,
 "nbformat_minor": 5
}
