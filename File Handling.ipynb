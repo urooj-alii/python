{
 "cells": [
  {
   "cell_type": "markdown",
   "id": "67cab1c6",
   "metadata": {},
   "source": [
    "PRACTICE"
   ]
  },
  {
   "cell_type": "code",
   "execution_count": null,
   "id": "5dc6a632",
   "metadata": {},
   "outputs": [
    {
     "name": "stdout",
     "output_type": "stream",
     "text": [
      "hello this txt file is created to use as practice.\n"
     ]
    }
   ],
   "source": [
    "##  read the whole content of file.\n",
    "\n",
    "with open(\"filehandle.txt\",\"r\")as file:\n",
    "    content= file.read()\n",
    "    print(content)\n",
    "\n",
    "###NOTE: func.read()   was used"
   ]
  },
  {
   "cell_type": "code",
   "execution_count": null,
   "id": "abdefb76",
   "metadata": {},
   "outputs": [],
   "source": [
    "##  read line by line\n"
   ]
  },
  {
   "cell_type": "markdown",
   "id": "b2f7cbfa",
   "metadata": {},
   "source": [
    "1. Write a Python program to read a text file and print its contents."
   ]
  },
  {
   "cell_type": "code",
   "execution_count": null,
   "id": "4adfb142",
   "metadata": {},
   "outputs": [],
   "source": []
  },
  {
   "cell_type": "markdown",
   "id": "06eed448",
   "metadata": {},
   "source": [
    "2. How do you write data to a file in Python?"
   ]
  },
  {
   "cell_type": "code",
   "execution_count": null,
   "id": "17e23f1a",
   "metadata": {},
   "outputs": [],
   "source": []
  },
  {
   "cell_type": "markdown",
   "id": "67f1f1e7",
   "metadata": {},
   "source": [
    "3. Create a program to append data to an existing file in Python."
   ]
  },
  {
   "cell_type": "code",
   "execution_count": null,
   "id": "a86013ef",
   "metadata": {},
   "outputs": [],
   "source": []
  },
  {
   "cell_type": "markdown",
   "id": "0c829348",
   "metadata": {},
   "source": [
    "4. Write a Python program to copy the contents of one file to another."
   ]
  },
  {
   "cell_type": "code",
   "execution_count": null,
   "id": "6b886abb",
   "metadata": {},
   "outputs": [],
   "source": []
  },
  {
   "cell_type": "markdown",
   "id": "6ce5bfc4",
   "metadata": {},
   "source": [
    "5. How can you read only a specific number of characters from a file in Python?"
   ]
  },
  {
   "cell_type": "code",
   "execution_count": null,
   "id": "aedc347c",
   "metadata": {},
   "outputs": [],
   "source": []
  },
  {
   "cell_type": "markdown",
   "id": "1c3cb424",
   "metadata": {},
   "source": [
    "6. Create a program to read and write CSV files in Python."
   ]
  },
  {
   "cell_type": "code",
   "execution_count": null,
   "id": "cb68e2b9",
   "metadata": {},
   "outputs": [],
   "source": []
  },
  {
   "cell_type": "markdown",
   "id": "41d95447",
   "metadata": {},
   "source": [
    "7. Write a Python program to delete a file."
   ]
  },
  {
   "cell_type": "code",
   "execution_count": null,
   "id": "1cdbf335",
   "metadata": {},
   "outputs": [],
   "source": []
  },
  {
   "cell_type": "markdown",
   "id": "3390cb9d",
   "metadata": {},
   "source": [
    "8. How do you handle file not found errors while working with file operations in Python?"
   ]
  },
  {
   "cell_type": "code",
   "execution_count": null,
   "id": "21a8c001",
   "metadata": {},
   "outputs": [],
   "source": []
  },
  {
   "cell_type": "markdown",
   "id": "078f5034",
   "metadata": {},
   "source": [
    "9. Create a program to count the number of lines in a text file in Python."
   ]
  },
  {
   "cell_type": "code",
   "execution_count": null,
   "id": "2a5340ba",
   "metadata": {},
   "outputs": [],
   "source": []
  },
  {
   "cell_type": "markdown",
   "id": "d1613d5c",
   "metadata": {},
   "source": [
    "10. Write a Python program to search for a specific pattern in a file using regex and print\n",
    "the matching lines"
   ]
  },
  {
   "cell_type": "code",
   "execution_count": null,
   "id": "9c7c7a20",
   "metadata": {},
   "outputs": [],
   "source": []
  }
 ],
 "metadata": {
  "kernelspec": {
   "display_name": "Python 3",
   "language": "python",
   "name": "python3"
  },
  "language_info": {
   "codemirror_mode": {
    "name": "ipython",
    "version": 3
   },
   "file_extension": ".py",
   "mimetype": "text/x-python",
   "name": "python",
   "nbconvert_exporter": "python",
   "pygments_lexer": "ipython3",
   "version": "3.13.3"
  }
 },
 "nbformat": 4,
 "nbformat_minor": 5
}
