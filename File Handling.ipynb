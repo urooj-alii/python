{
 "cells": [
  {
   "cell_type": "code",
   "execution_count": null,
   "id": "5dc6a632",
   "metadata": {},
   "outputs": [
    {
     "name": "stdout",
     "output_type": "stream",
     "text": [
      "hello this txt file is created to use as practice.\n"
     ]
    }
   ],
   "source": [
    "##  read the whole content of file.\n",
    "with open(\"filehandle.txt\",\"r\")as file:\n",
    "    content= file.read()\n",
    "    print(content)\n",
    "\n",
    "###NOTE: func.read()   was used"
   ]
  },
  {
   "cell_type": "code",
   "execution_count": null,
   "id": "8c9248d2",
   "metadata": {},
   "outputs": [],
   "source": [
    "with open(\"filehandle.txt\",\"w\")as file: \n",
    "    file.write(\"hello world\\n\")\n",
    "    file.write(\"ive changed the text using write\\n\")"
   ]
  },
  {
   "cell_type": "code",
   "execution_count": 2,
   "id": "abdefb76",
   "metadata": {},
   "outputs": [
    {
     "name": "stdout",
     "output_type": "stream",
     "text": [
      "hello world\n",
      "\n",
      "ive changed the text using write\n",
      "\n"
     ]
    }
   ],
   "source": [
    "##  read line by line\n",
    "with open(\"filehandle.txt\",\"r\")as file:\n",
    "    for line in file:\n",
    "        print(line)"
   ]
  },
  {
   "cell_type": "code",
   "execution_count": 3,
   "id": "2fef7b95",
   "metadata": {},
   "outputs": [
    {
     "name": "stdout",
     "output_type": "stream",
     "text": [
      "hello world\n",
      "ive changed the text using write\n"
     ]
    }
   ],
   "source": [
    "with open(\"filehandle.txt\",\"r\")as file:\n",
    "    for line in file:\n",
    "        print(line.strip())"
   ]
  },
  {
   "cell_type": "code",
   "execution_count": 11,
   "id": "5b29b0fb",
   "metadata": {},
   "outputs": [],
   "source": [
    "### working on binary files\n",
    "\n",
    "data= b'helloo'\n",
    "with open(\"fileHandle.bin\", \"wb\") as file:\n",
    "    file.write(data)"
   ]
  },
  {
   "cell_type": "code",
   "execution_count": 13,
   "id": "90ba3c90",
   "metadata": {},
   "outputs": [
    {
     "name": "stdout",
     "output_type": "stream",
     "text": [
      "b'helloo'\n"
     ]
    }
   ],
   "source": [
    "with open(\"fileHandle.bin\", \"rb\") as file:\n",
    "    contentbs=file.read()\n",
    "    print(contentbs)"
   ]
  },
  {
   "cell_type": "code",
   "execution_count": 19,
   "id": "41528da5",
   "metadata": {},
   "outputs": [
    {
     "name": "stdout",
     "output_type": "stream",
     "text": [
      "another change...\n",
      "\n"
     ]
    }
   ],
   "source": [
    "## writing and reading files together \n",
    "\n",
    "with open (\"filehandle.txt\",\"w+\") as file:\n",
    "     file.write(\"another change...\\n\")\n",
    "\n",
    "     file.seek(0)\n",
    "\n",
    "     read2=file.read()\n",
    "     print(read2)"
   ]
  },
  {
   "cell_type": "code",
   "execution_count": 21,
   "id": "f28c58e5",
   "metadata": {},
   "outputs": [],
   "source": [
    "## writing lines all together\n",
    "lines=[\"1st line\\n\",\"2nd line\\n\",\"third line \\n\"]\n",
    "with open(\"filehandle.txt\",\"a\")as file:\n",
    "    file.writelines(lines)"
   ]
  },
  {
   "cell_type": "markdown",
   "id": "b2f7cbfa",
   "metadata": {},
   "source": [
    "1. Write a Python program to read a text file and print its contents."
   ]
  },
  {
   "cell_type": "code",
   "execution_count": 5,
   "id": "4adfb142",
   "metadata": {},
   "outputs": [
    {
     "name": "stdout",
     "output_type": "stream",
     "text": [
      "hello world\n",
      "ive changed the text using write\n",
      "\n"
     ]
    }
   ],
   "source": [
    "with open (\"filehandle.txt\",\"r\") as file:\n",
    "    content = file.read()\n",
    "    print(content)"
   ]
  },
  {
   "cell_type": "markdown",
   "id": "06eed448",
   "metadata": {},
   "source": [
    "2. How do you write data to a file in Python?"
   ]
  },
  {
   "cell_type": "code",
   "execution_count": 8,
   "id": "17e23f1a",
   "metadata": {},
   "outputs": [
    {
     "name": "stdout",
     "output_type": "stream",
     "text": [
      "hello world\n",
      "ive changed the text using write\n",
      "added new line\n",
      "added new line\n",
      "added new line\n"
     ]
    }
   ],
   "source": [
    "with open(\"filehandle.txt\",\"a\")as file:\n",
    "    file.write(\"added new line\\n\")\n",
    "with open(\"filehandle.txt\",\"r\")as file:\n",
    "    for line in file:\n",
    "        print(line.strip())"
   ]
  },
  {
   "cell_type": "markdown",
   "id": "0c829348",
   "metadata": {},
   "source": [
    "4. Write a Python program to copy the contents of one file to another."
   ]
  },
  {
   "cell_type": "code",
   "execution_count": 23,
   "id": "6b886abb",
   "metadata": {},
   "outputs": [],
   "source": [
    "with open (\"filehandle.txt\", \"r\")as source_file:\n",
    "    content= source_file.read()\n",
    "\n",
    "with open (\"destination.txt\", \"w\")as destination_file:\n",
    "    destination_file.write(content)"
   ]
  },
  {
   "cell_type": "markdown",
   "id": "6ce5bfc4",
   "metadata": {},
   "source": [
    "5. How can you read only a specific number of characters from a file in Python?"
   ]
  },
  {
   "cell_type": "code",
   "execution_count": null,
   "id": "aedc347c",
   "metadata": {},
   "outputs": [],
   "source": []
  },
  {
   "cell_type": "markdown",
   "id": "1c3cb424",
   "metadata": {},
   "source": [
    "6. Create a program to read and write CSV files in Python."
   ]
  },
  {
   "cell_type": "code",
   "execution_count": null,
   "id": "cb68e2b9",
   "metadata": {},
   "outputs": [],
   "source": []
  },
  {
   "cell_type": "markdown",
   "id": "41d95447",
   "metadata": {},
   "source": [
    "7. Write a Python program to delete a file."
   ]
  },
  {
   "cell_type": "code",
   "execution_count": null,
   "id": "1cdbf335",
   "metadata": {},
   "outputs": [],
   "source": []
  },
  {
   "cell_type": "markdown",
   "id": "3390cb9d",
   "metadata": {},
   "source": [
    "8. How do you handle file not found errors while working with file operations in Python?"
   ]
  },
  {
   "cell_type": "code",
   "execution_count": null,
   "id": "21a8c001",
   "metadata": {},
   "outputs": [],
   "source": []
  },
  {
   "cell_type": "markdown",
   "id": "078f5034",
   "metadata": {},
   "source": [
    "9. Create a program to count the number of lines in a text file in Python."
   ]
  },
  {
   "cell_type": "code",
   "execution_count": 28,
   "id": "2a5340ba",
   "metadata": {},
   "outputs": [
    {
     "name": "stdout",
     "output_type": "stream",
     "text": [
      "7\n"
     ]
    }
   ],
   "source": [
    "with open(\"filehandle.txt\",\"r\")as file:\n",
    "    count=0\n",
    "    for line in file:\n",
    "        count+=1\n",
    "    print(count)\n",
    "        \n"
   ]
  },
  {
   "cell_type": "markdown",
   "id": "d1613d5c",
   "metadata": {},
   "source": [
    "10. Write a Python program to search for a specific pattern in a file using regex and print\n",
    "the matching lines"
   ]
  },
  {
   "cell_type": "code",
   "execution_count": null,
   "id": "9c7c7a20",
   "metadata": {},
   "outputs": [],
   "source": []
  }
 ],
 "metadata": {
  "kernelspec": {
   "display_name": "Python 3",
   "language": "python",
   "name": "python3"
  },
  "language_info": {
   "codemirror_mode": {
    "name": "ipython",
    "version": 3
   },
   "file_extension": ".py",
   "mimetype": "text/x-python",
   "name": "python",
   "nbconvert_exporter": "python",
   "pygments_lexer": "ipython3",
   "version": "3.13.3"
  }
 },
 "nbformat": 4,
 "nbformat_minor": 5
}
