{
 "cells": [
  {
   "cell_type": "markdown",
   "id": "7431e656",
   "metadata": {},
   "source": [
    "Python Strings\n",
    "1. Write a Python program to count the number of characters in a string.\n",
    "\n",
    "\n"
   ]
  },
  {
   "cell_type": "code",
   "execution_count": 3,
   "id": "60019336",
   "metadata": {},
   "outputs": [
    {
     "data": {
      "text/plain": [
       "5"
      ]
     },
     "execution_count": 3,
     "metadata": {},
     "output_type": "execute_result"
    }
   ],
   "source": [
    "def string_counter(str):\n",
    "    count=0\n",
    "    for char in str:\n",
    "        count+=1\n",
    "    return count\n",
    "\n",
    "string_counter(\"urooj\")"
   ]
  },
  {
   "cell_type": "markdown",
   "id": "f0b9be85",
   "metadata": {},
   "source": [
    "2. Create a function to check if a given string is a palindrome or not.\n"
   ]
  },
  {
   "cell_type": "code",
   "execution_count": 5,
   "id": "91f2b2c0",
   "metadata": {},
   "outputs": [
    {
     "name": "stdout",
     "output_type": "stream",
     "text": [
      "False\n",
      "True\n"
     ]
    }
   ],
   "source": [
    "def palindrome_checker(str):\n",
    "    pal=\"\".join(char.lower() for char in str if char.isalnum())\n",
    "    return pal==pal[::-1]\n",
    "\n",
    "print(palindrome_checker(\"happy\"))\n",
    "print(palindrome_checker(\"nitin\"))\n"
   ]
  },
  {
   "cell_type": "markdown",
   "id": "eb9c2033",
   "metadata": {},
   "source": [
    "3. Write a program that takes a string and returns a new string with the vowels removed.\n"
   ]
  },
  {
   "cell_type": "code",
   "execution_count": 6,
   "id": "c53d6505",
   "metadata": {},
   "outputs": [
    {
     "data": {
      "text/plain": [
       "'rjjjj'"
      ]
     },
     "execution_count": 6,
     "metadata": {},
     "output_type": "execute_result"
    }
   ],
   "source": [
    "def vowel_remover(str):\n",
    "    vowelss=\"aeiouAEIOU\"\n",
    "    return ''.join(char for char in str if char.lower() not in vowelss) \n",
    "\n",
    "vowel_remover(\"uroojjjj\")"
   ]
  },
  {
   "cell_type": "markdown",
   "id": "656a38ff",
   "metadata": {},
   "source": [
    "4. How can you reverse a string in Python?\n"
   ]
  },
  {
   "cell_type": "code",
   "execution_count": 14,
   "id": "da069bbe",
   "metadata": {},
   "outputs": [
    {
     "name": "stdout",
     "output_type": "stream",
     "text": [
      "jooru\n"
     ]
    }
   ],
   "source": [
    "original=\"urooj\"\n",
    "reverse=original[::-1]\n",
    "print(reverse)"
   ]
  },
  {
   "cell_type": "markdown",
   "id": "0eb45766",
   "metadata": {},
   "source": [
    "5. Create a function that checks if two strings are anagrams of each other"
   ]
  },
  {
   "cell_type": "code",
   "execution_count": null,
   "id": "55f90684",
   "metadata": {},
   "outputs": [],
   "source": [
    "def anagram_checker(name1,name2):\n",
    "    new_name1=name1.lower()\n",
    "    new_name2=name2.lower()\n",
    "    "
   ]
  }
 ],
 "metadata": {
  "kernelspec": {
   "display_name": "Python 3",
   "language": "python",
   "name": "python3"
  },
  "language_info": {
   "codemirror_mode": {
    "name": "ipython",
    "version": 3
   },
   "file_extension": ".py",
   "mimetype": "text/x-python",
   "name": "python",
   "nbconvert_exporter": "python",
   "pygments_lexer": "ipython3",
   "version": "3.13.3"
  }
 },
 "nbformat": 4,
 "nbformat_minor": 5
}
