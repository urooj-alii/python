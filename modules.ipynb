{
 "cells": [
  {
   "cell_type": "markdown",
   "id": "982c424e",
   "metadata": {},
   "source": [
    "Module: A single Python file containing reusable code (e.g., math.py).\n",
    "\n",
    "Package: A directory containing modules and a special __init__.py file.\n",
    "\n",
    "Sub-Packages: Packages nested within other packages for deeper organization.\n"
   ]
  },
  {
   "cell_type": "code",
   "execution_count": 3,
   "id": "a0b575e6",
   "metadata": {},
   "outputs": [
    {
     "name": "stdout",
     "output_type": "stream",
     "text": [
      "calculating12\n"
     ]
    }
   ],
   "source": [
    "# importing modules from package created\n",
    "\n",
    "from package.maths import *\n",
    "\n",
    "calculate(12)"
   ]
  },
  {
   "cell_type": "code",
   "execution_count": 10,
   "id": "56ab041f",
   "metadata": {},
   "outputs": [
    {
     "name": "stdout",
     "output_type": "stream",
     "text": [
      "12\n",
      "0.75\n"
     ]
    }
   ],
   "source": [
    "# importing modules from subpackages created\n",
    "\n",
    "\n",
    "from package.calculate.advance import mult,division\n",
    "\n",
    "print(mult(3,4))\n",
    "print(division(3,4))"
   ]
  },
  {
   "cell_type": "code",
   "execution_count": 1,
   "id": "d73690aa",
   "metadata": {},
   "outputs": [
    {
     "name": "stdout",
     "output_type": "stream",
     "text": [
      "12 is not prime\n",
      "None\n",
      "13 is prime\n",
      "None\n"
     ]
    }
   ],
   "source": [
    "from package.calculate.advance import prime_num\n",
    "\n",
    "print(prime_num(12))\n",
    "print(prime_num(13))"
   ]
  },
  {
   "cell_type": "code",
   "execution_count": 7,
   "id": "7c647336",
   "metadata": {},
   "outputs": [
    {
     "name": "stdout",
     "output_type": "stream",
     "text": [
      "11\n",
      "-1\n"
     ]
    }
   ],
   "source": [
    "from package.calculate.basic import addition,substraction\n",
    "\n",
    "print(addition(5,6))\n",
    "print(substraction(8,9))"
   ]
  },
  {
   "cell_type": "code",
   "execution_count": 12,
   "id": "9aaa0cf0",
   "metadata": {},
   "outputs": [
    {
     "data": {
      "text/plain": [
       "array([1, 2, 3, 4])"
      ]
     },
     "execution_count": 12,
     "metadata": {},
     "output_type": "execute_result"
    }
   ],
   "source": [
    "# installing external packages\n",
    "\n",
    "import numpy as np\n",
    "np.array([1,2,3,4])"
   ]
  },
  {
   "cell_type": "markdown",
   "id": "182b83fb",
   "metadata": {},
   "source": [
    "• Standard libraries (math, random, datetime, os, sys)"
   ]
  },
  {
   "cell_type": "code",
   "execution_count": 13,
   "id": "b4a0b954",
   "metadata": {},
   "outputs": [
    {
     "name": "stdout",
     "output_type": "stream",
     "text": [
      "4.47213595499958\n",
      "3.141592653589793\n",
      "1.7297158093186489\n",
      "295232799039604140847618609643520000000\n",
      "1.5707963267948966\n"
     ]
    }
   ],
   "source": [
    "# MATH\n",
    "\n",
    "from math import *\n",
    "\n",
    "print(sqrt(20))\n",
    "print(pi)\n",
    "print(log(11,4))\n",
    "print(factorial(34))\n",
    "print(radians(90))"
   ]
  },
  {
   "cell_type": "code",
   "execution_count": 24,
   "id": "e5ab24dc",
   "metadata": {},
   "outputs": [
    {
     "name": "stdout",
     "output_type": "stream",
     "text": [
      "11\n",
      "grey\n"
     ]
    }
   ],
   "source": [
    "# random\n",
    "\n",
    "import random\n",
    "\n",
    "print(random.randint(1,11))\n",
    "print(random.choice([\"apple\",\"grey\",\"happy\"]))"
   ]
  },
  {
   "cell_type": "code",
   "execution_count": 25,
   "id": "26f8a433",
   "metadata": {},
   "outputs": [],
   "source": [
    "#  os\n",
    " \n",
    "import os\n",
    "os.mkdir(\"using-os\")\n"
   ]
  },
  {
   "cell_type": "code",
   "execution_count": 26,
   "id": "dc5fcc9b",
   "metadata": {},
   "outputs": [],
   "source": [
    "os.rename(\"using-os\",\"used-os\")"
   ]
  },
  {
   "cell_type": "code",
   "execution_count": 30,
   "id": "dcfd9807",
   "metadata": {},
   "outputs": [
    {
     "data": {
      "text/plain": [
       "'c:\\\\Users\\\\HP\\\\Downloads\\\\Telegram Desktop\\\\python'"
      ]
     },
     "execution_count": 30,
     "metadata": {},
     "output_type": "execute_result"
    }
   ],
   "source": [
    "os.getcwd()\n"
   ]
  },
  {
   "cell_type": "code",
   "execution_count": 31,
   "id": "be9364f1",
   "metadata": {},
   "outputs": [
    {
     "data": {
      "text/plain": [
       "['modules.ipynb', 'myvenv', 'package', 'used-os']"
      ]
     },
     "execution_count": 31,
     "metadata": {},
     "output_type": "execute_result"
    }
   ],
   "source": [
    "os.listdir()"
   ]
  }
 ],
 "metadata": {
  "kernelspec": {
   "display_name": "Python 3",
   "language": "python",
   "name": "python3"
  },
  "language_info": {
   "codemirror_mode": {
    "name": "ipython",
    "version": 3
   },
   "file_extension": ".py",
   "mimetype": "text/x-python",
   "name": "python",
   "nbconvert_exporter": "python",
   "pygments_lexer": "ipython3",
   "version": "3.13.3"
  }
 },
 "nbformat": 4,
 "nbformat_minor": 5
}
